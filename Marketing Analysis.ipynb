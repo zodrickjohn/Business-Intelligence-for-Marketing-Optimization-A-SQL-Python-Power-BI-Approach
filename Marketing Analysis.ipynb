{
 "cells": [
  {
   "cell_type": "code",
   "execution_count": 30,
   "id": "e6edbbfa-10c8-4fd9-b015-cea315a7e9e0",
   "metadata": {},
   "outputs": [],
   "source": [
    "import pandas as pd\n",
    "import pyodbc\n",
    "import nltk\n",
    "from nltk.sentiment.vader import SentimentIntensityAnalyzer"
   ]
  },
  {
   "cell_type": "code",
   "execution_count": 3,
   "id": "4b9e84d4-933d-41bc-bb66-49e68027fc98",
   "metadata": {},
   "outputs": [
    {
     "name": "stderr",
     "output_type": "stream",
     "text": [
      "[nltk_data] Downloading package vader_lexicon to C:\\Users\\Zodrick\n",
      "[nltk_data]     John\\AppData\\Roaming\\nltk_data...\n"
     ]
    },
    {
     "data": {
      "text/plain": [
       "True"
      ]
     },
     "execution_count": 3,
     "metadata": {},
     "output_type": "execute_result"
    }
   ],
   "source": [
    "nltk.download('vader_lexicon')"
   ]
  },
  {
   "cell_type": "code",
   "execution_count": 32,
   "id": "fbc0a00e-a113-4d78-9efe-8939c6c404f7",
   "metadata": {},
   "outputs": [],
   "source": [
    "def fetch_data_from_sql():\n",
    "    conn_str = (\n",
    "        \"Driver={SQL Server};\"\n",
    "        \"Server=ZODRICK-JOHN;\"\n",
    "        \"Database=PortfolioProject_MarketingAnalytics;\"\n",
    "        \"Trusted_Connection=yes;\"\n",
    "    )\n",
    "    conn = pyodbc.connect(conn_str)\n",
    "    query = \"select ReviewID,CustomerID,ProductID,ReviewDate,Rating,ReviewText from customer_reviews\"\n",
    "    df = pd.read_sql(query, conn)\n",
    "    conn.close()\n",
    "    return df"
   ]
  },
  {
   "cell_type": "code",
   "execution_count": 34,
   "id": "542d8e77-715f-4b0f-9333-3952edebf06d",
   "metadata": {},
   "outputs": [
    {
     "name": "stderr",
     "output_type": "stream",
     "text": [
      "C:\\Users\\Zodrick John\\AppData\\Local\\Temp\\ipykernel_25980\\1890136154.py:10: UserWarning: pandas only supports SQLAlchemy connectable (engine/connection) or database string URI or sqlite3 DBAPI2 connection. Other DBAPI2 objects are not tested. Please consider using SQLAlchemy.\n",
      "  df = pd.read_sql(query, conn)\n"
     ]
    }
   ],
   "source": [
    "customer_reviews_df = fetch_data_from_sql()\n",
    "sia = SentimentIntensityAnalyzer()"
   ]
  },
  {
   "cell_type": "code",
   "execution_count": 35,
   "id": "b80f69c7-f598-4df0-bbb8-7090aad2b34c",
   "metadata": {},
   "outputs": [],
   "source": [
    "# function to calculate sentiment scores using VADER\n",
    "def calculate_sentiment(review):\n",
    "    sentiment =sia.polarity_scores(review)\n",
    "    return sentiment['compound'] # returning the compound score which is a normalized score between -1 and 1"
   ]
  },
  {
   "cell_type": "code",
   "execution_count": 36,
   "id": "ed0bb6bc-b78e-45f7-b2df-019f0526b2be",
   "metadata": {},
   "outputs": [],
   "source": [
    "# defined a function to categorize sentiment using both the sentiment score and the review rating\n",
    "def categorize_sentiment(score, rating):\n",
    "    if score > 0.05:\n",
    "        if rating >= 4:\n",
    "            return 'Positive'\n",
    "        elif rating == 3:\n",
    "            return 'Mixed Positive'\n",
    "        else :\n",
    "            return 'Mixed Negative'\n",
    "    elif score < -0.05:\n",
    "        if rating <= 2:\n",
    "            return \"Negative\"\n",
    "        elif rating == 3:\n",
    "            return \"Mixed Negative\"\n",
    "        else:\n",
    "            return \"Mixed Positive\"\n",
    "    else:\n",
    "        if rating >= 4:\n",
    "            return \"Postive\"\n",
    "        elif rating <=2:\n",
    "            return \"Negative\"\n",
    "        else:\n",
    "            return \"Neutral\""
   ]
  },
  {
   "cell_type": "code",
   "execution_count": 37,
   "id": "5c3c8e23-75d4-4fbd-814b-0e1fb26cdb09",
   "metadata": {},
   "outputs": [],
   "source": [
    "# defined a function to bucket sentiment scores into text ranges\n",
    "def sentiment_bucket(score):\n",
    "    if score >= 0.5:\n",
    "        return '0.5 to 1.0'\n",
    "    elif 0.0 <= score < 0.5:\n",
    "        return '0.0 to 0.49'\n",
    "    elif -0.5 <= score < 0.0:\n",
    "        return '-0.49 to 0.0'\n",
    "    else:\n",
    "        return '-1.0 to -0.5'"
   ]
  },
  {
   "cell_type": "code",
   "execution_count": 38,
   "id": "1495bf30-ea79-4181-8c5a-2c5f07d1dad2",
   "metadata": {},
   "outputs": [],
   "source": [
    "# apply sentiment analysis to calculate sentiment scores for each review\n",
    "customer_reviews_df['SentimentScore'] = customer_reviews_df['ReviewText'].apply(calculate_sentiment)\n",
    "# apply sentiment categorization using both text and rating\n",
    "customer_reviews_df['SentimentCategory'] = customer_reviews_df.apply(\n",
    "    lambda row: categorize_sentiment(row['SentimentScore'],row['Rating']), axis=1)"
   ]
  },
  {
   "cell_type": "code",
   "execution_count": 45,
   "id": "62b8bec8-2e3b-4786-8589-f704fd74f2fa",
   "metadata": {},
   "outputs": [
    {
     "name": "stdout",
     "output_type": "stream",
     "text": [
      "   ReviewID  CustomerID  ProductID  ReviewDate  Rating  \\\n",
      "0         1          77         18  2023-12-23       3   \n",
      "1         2          80         19  2024-12-25       5   \n",
      "2         3          50         13  2025-01-26       4   \n",
      "3         4          78         15  2025-04-21       3   \n",
      "4         5          64          2  2023-07-16       3   \n",
      "\n",
      "                                 ReviewText  SentimentScore SentimentCategory  \n",
      "0   Average  experience,  nothing  special.         -0.3089    Mixed Negative  \n",
      "1            The  quality  is    top-notch.          0.0000           Postive  \n",
      "2   Five  stars  for  the  quick  delivery.          0.0000           Postive  \n",
      "3  Good  quality,  but  could  be  cheaper.          0.2382    Mixed Positive  \n",
      "4   Average  experience,  nothing  special.         -0.3089    Mixed Negative  \n"
     ]
    }
   ],
   "source": [
    "print(customer_reviews_df.head())"
   ]
  },
  {
   "cell_type": "code",
   "execution_count": 47,
   "id": "4b593db4-889e-4bc2-b0d7-353ac05d079c",
   "metadata": {},
   "outputs": [],
   "source": [
    "customer_reviews_df.to_csv('fact_customer_reviews_with_sentiment.csv', index=False)"
   ]
  },
  {
   "cell_type": "code",
   "execution_count": null,
   "id": "425d57f1-715c-4452-a184-a95e0a73334f",
   "metadata": {},
   "outputs": [],
   "source": []
  }
 ],
 "metadata": {
  "kernelspec": {
   "display_name": "Python [conda env:base] *",
   "language": "python",
   "name": "conda-base-py"
  },
  "language_info": {
   "codemirror_mode": {
    "name": "ipython",
    "version": 3
   },
   "file_extension": ".py",
   "mimetype": "text/x-python",
   "name": "python",
   "nbconvert_exporter": "python",
   "pygments_lexer": "ipython3",
   "version": "3.12.7"
  }
 },
 "nbformat": 4,
 "nbformat_minor": 5
}
